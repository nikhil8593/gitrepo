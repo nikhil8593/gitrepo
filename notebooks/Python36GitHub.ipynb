{
 "cells": [
  {
   "cell_type": "markdown",
   "metadata": {
    "autoscroll": false
   },
   "source": [
    "<ul style=\"list-style-type:circle;font-size:14px;line-height:27px;\">\r\n",
    "    <li><b>from streamanalytix.python.dataset import Dataset:</b> Load Dataset class from streamanalytix API.</li>\r\n",
    "\t<li><b>Dataset(source_name):</b> Creates object of dataset class for given source.\r\n",
    "\t\t<ul>\r\n",
    "\t\t\t<li><b>Dataset.get_dataframe():</b> Read data source and return a pandas dataframe. </li>\r\n",
    "\t\t</ul>\r\n",
    "\t</li>\r\n",
    "\t<li><b>from streamanalytix.utilities import sax_utils:</b> Load sax_util script. It has following functions\r\n",
    "\t\t<ul>\r\n",
    "\t\t\t<li><b>sax_utils.save_and_download_model(model_name, model_object):</b>This method lets the user to save and download the trained model with StreamAnalytix. This model can than be used for training and/or scoring purpose as part of the StreamAnalytix pipeline</li>\r\n",
    "\t\t\t\t<ul>\r\n",
    "\t\t\t\t\t<li><b>model_name:</b> Name of the model. Accepted String value only. e.g. <i>\"DecisionTreeModel\"</i></li>\r\n",
    "\t\t\t\t\t<li><b>model_object:</b> Object of the trained model</li>\r\n",
    "\t\t\t\t</ul>\r\n",
    "\t\t\t<li><b>sax_utils.create_h2o_frame(source_name, cluster_name):</b>This method read data source and return H2O frame using notebook environment.</li>\r\n",
    "\t\t\t\t<ul>\r\n",
    "\t\t\t\t\t<li><b>source_name:</b> Name of the source. Accepted String value only. e.g. <i>\"MyDataSource\"</i></li>\r\n",
    "\t\t\t\t\t<li><b>cluster_name:</b> Name of the cluster. Accepted String value only. e.g. <i>\"TrainingCluster\"</i></li>\r\n",
    "\t\t\t\t</ul>\r\n",
    "\t\t\t<li><b>sax_utils.upload_and_register_h2o_model(model_object, model_name, model_type, project_name, project_version, workspace_name):</b>This method lets the user to upload and register h2o model in 'mojo' format in streamanalytix</li>\r\n",
    "\t\t\t\t<ul>\r\n",
    "\t\t\t\t\t<li><b>model_object:</b> Object of trained H2O model</li>\r\n",
    "\t\t\t\t\t<li><b>model_name:</b>Name of the model. Accepted String value only. e.g. <i>\"H2OTreeModel\"</i>\r\n",
    "\t\t\t\t\t<li><b>model_type:</b>Type of trained model. Accepted String value only. We support H2O model of types :<i>\"DistributedRandomForest\"</i>,<i>\"GeneralizedLinearModelling\"</i>,<i>\"IsolationForest\"</i>,<i>\"GradientBoostingMachine\"</i></li>\r\n",
    "\t\t\t\t\t<li><b>project_name:</b>Project Name in which model should register. Accepted String value only. e.g. <i>\"MyProject\"</i></li>\r\n",
    "\t\t\t\t\t<li><b>project_version:</b>Version of given project in which model should register</li>\r\n",
    "\t\t\t\t\t<li><b>workspace_name:</b>Workspace Name in which model should register. Accepted String value only. e.g. <i>\"MyWorkspace\"</i></li>\r\n",
    "\t\t\t\t</ul>\r\n",
    "\t\t</ul>\r\n",
    "\t</li>\r\n",
    "</ul>\r\n"
   ]
  },
  {
   "cell_type": "code",
   "execution_count": 1,
   "metadata": {
    "autoscroll": false,
    "collapsed": false,
    "jupyter": {
     "outputs_hidden": false
    }
   },
   "outputs": [
    {
     "name": "stderr",
     "output_type": "stream",
     "text": [
      "/usr/local/lib/python3.6/site-packages/urllib3/connection.py:462: SubjectAltNameWarning: Certificate for impetus-i0141.impetus.co.in has no `subjectAltName`, falling back to check for a `commonName` for now. This feature is being removed by major browsers and deprecated by RFC 2818. (See https://github.com/urllib3/urllib3/issues/497 for details.)\n",
      "  SubjectAltNameWarning,\n"
     ]
    },
    {
     "name": "stdout",
     "output_type": "stream",
     "text": [
      "Dataframe created\n"
     ]
    },
    {
     "name": "stderr",
     "output_type": "stream",
     "text": [
      "/usr/local/lib/python3.6/site-packages/urllib3/connection.py:462: SubjectAltNameWarning: Certificate for impetus-i0319.impetus.co.in has no `subjectAltName`, falling back to check for a `commonName` for now. This feature is being removed by major browsers and deprecated by RFC 2818. (See https://github.com/urllib3/urllib3/issues/497 for details.)\n",
      "  SubjectAltNameWarning,\n"
     ]
    }
   ],
   "source": [
    "from streamanalytix.python.dataset import Dataset\n",
    "from streamanalytix.utilities import sax_utils\n",
    "\n",
    "\n",
    "dataset_1 = Dataset(\"Python36GitHub\")\n",
    "\n",
    "# you can use pandas to create dataframe as shown below\n",
    "df = dataset_1.get_dataframe()"
   ]
  },
  {
   "cell_type": "code",
   "execution_count": 2,
   "metadata": {},
   "outputs": [
    {
     "data": {
      "text/html": [
       "<div>\n",
       "<style scoped>\n",
       "    .dataframe tbody tr th:only-of-type {\n",
       "        vertical-align: middle;\n",
       "    }\n",
       "\n",
       "    .dataframe tbody tr th {\n",
       "        vertical-align: top;\n",
       "    }\n",
       "\n",
       "    .dataframe thead th {\n",
       "        text-align: right;\n",
       "    }\n",
       "</style>\n",
       "<table border=\"1\" class=\"dataframe\">\n",
       "  <thead>\n",
       "    <tr style=\"text-align: right;\">\n",
       "      <th></th>\n",
       "      <th>headers</th>\n",
       "      <th>magic</th>\n",
       "      <th>message</th>\n",
       "      <th>messageSchema</th>\n",
       "      <th>messageSchemaId</th>\n",
       "      <th>type</th>\n",
       "    </tr>\n",
       "  </thead>\n",
       "  <tbody>\n",
       "    <tr>\n",
       "      <th>0</th>\n",
       "      <td>NaN</td>\n",
       "      <td>atMSG</td>\n",
       "      <td>{'schemaId': 'DB8A0E13CD9B050E9B27E1918541E919...</td>\n",
       "      <td>NaN</td>\n",
       "      <td>4C0C7CC1E46B496066736C3EAA2D8F41</td>\n",
       "      <td>DT</td>\n",
       "    </tr>\n",
       "    <tr>\n",
       "      <th>1</th>\n",
       "      <td>NaN</td>\n",
       "      <td>atMSG</td>\n",
       "      <td>{'schemaId': 'DB8A0E13CD9B050E9B27E1918541E919...</td>\n",
       "      <td>NaN</td>\n",
       "      <td>4C0C7CC1E46B496066736C3EAA2D8F41</td>\n",
       "      <td>DT</td>\n",
       "    </tr>\n",
       "    <tr>\n",
       "      <th>2</th>\n",
       "      <td>NaN</td>\n",
       "      <td>atMSG</td>\n",
       "      <td>{'schemaId': 'DB8A0E13CD9B050E9B27E1918541E919...</td>\n",
       "      <td>NaN</td>\n",
       "      <td>4C0C7CC1E46B496066736C3EAA2D8F41</td>\n",
       "      <td>DT</td>\n",
       "    </tr>\n",
       "    <tr>\n",
       "      <th>3</th>\n",
       "      <td>NaN</td>\n",
       "      <td>atMSG</td>\n",
       "      <td>{'schemaId': 'DB8A0E13CD9B050E9B27E1918541E919...</td>\n",
       "      <td>NaN</td>\n",
       "      <td>4C0C7CC1E46B496066736C3EAA2D8F41</td>\n",
       "      <td>DT</td>\n",
       "    </tr>\n",
       "    <tr>\n",
       "      <th>4</th>\n",
       "      <td>NaN</td>\n",
       "      <td>atMSG</td>\n",
       "      <td>{'schemaId': 'DB8A0E13CD9B050E9B27E1918541E919...</td>\n",
       "      <td>NaN</td>\n",
       "      <td>4C0C7CC1E46B496066736C3EAA2D8F41</td>\n",
       "      <td>DT</td>\n",
       "    </tr>\n",
       "  </tbody>\n",
       "</table>\n",
       "</div>"
      ],
      "text/plain": [
       "   headers  magic                                            message  \\\n",
       "0      NaN  atMSG  {'schemaId': 'DB8A0E13CD9B050E9B27E1918541E919...   \n",
       "1      NaN  atMSG  {'schemaId': 'DB8A0E13CD9B050E9B27E1918541E919...   \n",
       "2      NaN  atMSG  {'schemaId': 'DB8A0E13CD9B050E9B27E1918541E919...   \n",
       "3      NaN  atMSG  {'schemaId': 'DB8A0E13CD9B050E9B27E1918541E919...   \n",
       "4      NaN  atMSG  {'schemaId': 'DB8A0E13CD9B050E9B27E1918541E919...   \n",
       "\n",
       "   messageSchema                   messageSchemaId type  \n",
       "0            NaN  4C0C7CC1E46B496066736C3EAA2D8F41   DT  \n",
       "1            NaN  4C0C7CC1E46B496066736C3EAA2D8F41   DT  \n",
       "2            NaN  4C0C7CC1E46B496066736C3EAA2D8F41   DT  \n",
       "3            NaN  4C0C7CC1E46B496066736C3EAA2D8F41   DT  \n",
       "4            NaN  4C0C7CC1E46B496066736C3EAA2D8F41   DT  "
      ]
     },
     "execution_count": 2,
     "metadata": {},
     "output_type": "execute_result"
    }
   ],
   "source": [
    "df.head()"
   ]
  },
  {
   "cell_type": "code",
   "execution_count": null,
   "metadata": {},
   "outputs": [],
   "source": []
  }
 ],
 "metadata": {
  "autoplay": {
   "autoRun": true
  },
  "kernelspec": {
   "display_name": "Python 3",
   "language": "python",
   "name": "python3"
  },
  "language_info": {
   "codemirror_mode": {
    "name": "ipython",
    "version": 3
   },
   "file_extension": ".py",
   "mimetype": "text/x-python",
   "name": "python",
   "nbconvert_exporter": "python",
   "pygments_lexer": "ipython3",
   "version": "3.6.9"
  }
 },
 "nbformat": 4,
 "nbformat_minor": 4
}
