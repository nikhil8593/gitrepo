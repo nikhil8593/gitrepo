{
 "cells": [
  {
   "cell_type": "markdown",
   "metadata": {
    "autoscroll": false,
    "collapsed": false
   },
   "source": [
    "<ul style=\"list-style-type:circle;font-size:14px;line-height:27px;\">\r\n",
    "    <li><b>from streamanalytix.python.dataset import Dataset:</b> Load Dataset class from streamanalytix API.</li>\r\n",
    "\t<li><b>Dataset(source_name):</b> Creates object of dataset class for given source.\r\n",
    "\t\t<ul>\r\n",
    "\t\t\t<li><b>Dataset.get_dataframe():</b> Read data source and return a pandas dataframe. </li>\r\n",
    "\t\t</ul>\r\n",
    "\t</li>\r\n",
    "\t<li><b>from streamanalytix.utilities import sax_utils:</b> Load sax_util script. It has following functions\r\n",
    "\t\t<ul>\r\n",
    "\t\t\t<li><b>sax_utils.save_and_download_model(model_name, model_object):</b>This method lets the user to save and download the trained model with StreamAnalytix. This model can than be used for training and/or scoring purpose as part of the StreamAnalytix pipeline</li>\r\n",
    "\t\t\t\t<ul>\r\n",
    "\t\t\t\t\t<li><b>model_name:</b> Name of the model. Accepted String value only. e.g. <i>\"DecisionTreeModel\"</i></li>\r\n",
    "\t\t\t\t\t<li><b>model_object:</b> Object of the trained model</li>\r\n",
    "\t\t\t\t</ul>\r\n",
    "\t\t\t<li><b>sax_utils.create_h2o_frame(source_name, cluster_name):</b>This method read data source and return H2O frame using notebook environment.</li>\r\n",
    "\t\t\t\t<ul>\r\n",
    "\t\t\t\t\t<li><b>source_name:</b> Name of the source. Accepted String value only. e.g. <i>\"MyDataSource\"</i></li>\r\n",
    "\t\t\t\t\t<li><b>cluster_name:</b> Name of the cluster. Accepted String value only. e.g. <i>\"TrainingCluster\"</i></li>\r\n",
    "\t\t\t\t</ul>\r\n",
    "\t\t\t<li><b>sax_utils.upload_and_register_h2o_model(model_object, model_name, model_type, project_name, project_version, workspace_name):</b>This method lets the user to upload and register h2o model in 'mojo' format in streamanalytix</li>\r\n",
    "\t\t\t\t<ul>\r\n",
    "\t\t\t\t\t<li><b>model_object:</b> Object of trained H2O model</li>\r\n",
    "\t\t\t\t\t<li><b>model_name:</b>Name of the model. Accepted String value only. e.g. <i>\"H2OTreeModel\"</i>\r\n",
    "\t\t\t\t\t<li><b>model_type:</b>Type of trained model. Accepted String value only. We support H2O model of types :<i>\"DistributedRandomForest\"</i>,<i>\"GeneralizedLinearModelling\"</i>,<i>\"IsolationForest\"</i>,<i>\"GradientBoostingMachine\"</i></li>\r\n",
    "\t\t\t\t\t<li><b>project_name:</b>Project Name in which model should register. Accepted String value only. e.g. <i>\"MyProject\"</i></li>\r\n",
    "\t\t\t\t\t<li><b>project_version:</b>Version of given project in which model should register</li>\r\n",
    "\t\t\t\t\t<li><b>workspace_name:</b>Workspace Name in which model should register. Accepted String value only. e.g. <i>\"MyWorkspace\"</i></li>\r\n",
    "\t\t\t\t</ul>\r\n",
    "\t\t</ul>\r\n",
    "\t</li>\r\n",
    "</ul>\r\n"
   ]
  },
  {
   "cell_type": "code",
   "execution_count": null,
   "metadata": {
    "autoscroll": false,
    "collapsed": false
   },
   "outputs": [],
   "source": [
    "from streamanalytix.python.dataset import Dataset\n",
    "from streamanalytix.utilities import sax_utils\n\n",
    "\n",
    "dataset_1 = Dataset(\"testfile\")",
    "\n\n",
    "# you can use pandas to create dataframe as shown below\n",
    "# df = dataset_1.get_dataframe()"
   ]
  }
 ],
 "metadata": {
  "autoplay": {
   "autoRun": true
  },
  "kernelspec": {
   "display_name": "Python 2",
   "language": "python",
   "name": "python2"
  },
  "language_info": {
   "codemirror_mode": {
    "name": "ipython",
    "version": ""
   },
   "file_extension": ".py",
   "mimetype": "text/x-python",
   "name": "python",
   "nbconvert_exporter": "python",
   "pygments_lexer": "",
   "version": "2.7.5"
  }
 },
 "nbformat": 4,
 "nbformat_minor": 4
}
